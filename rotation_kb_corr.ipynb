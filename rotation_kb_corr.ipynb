{
 "cells": [
  {
   "cell_type": "code",
   "execution_count": 35,
   "metadata": {},
   "outputs": [],
   "source": [
    "import numpy as np\n",
    "import matplotlib.pyplot as plt\n",
    "import cv2\n",
    "import os\n",
    "from datetime import datetime, timedelta\n",
    "\n",
    "from collections import deque, namedtuple\n",
    "# from create_dataset import CONVERT_INPUT\n",
    "from utils import read_speed, preprocess_img, read_angle, angle_diff_norm\n",
    "# from create_dataset import CONVERT_INPUT\n",
    "CONVERT_INPUT = [[1, 0], [0, 1], [0, 0]]\n",
    "CONVERT_INPUT = [[0, 0], [0, 1], [1, 0]]"
   ]
  },
  {
   "cell_type": "code",
   "execution_count": 42,
   "metadata": {},
   "outputs": [],
   "source": [
    "SRC_PATH = 'H:/machine learning/NFSMW_v1/images/handmade'\n",
    "TRACK_IDS = [i for i in range(18 , 34)]; TRACK_IDS.remove(26)\n",
    "TRACK_IDS = [35]"
   ]
  },
  {
   "cell_type": "code",
   "execution_count": 27,
   "metadata": {},
   "outputs": [],
   "source": [
    "def diff_angle_norm(this_angle, prev_angle):\n",
    "    if np.abs(this_angle - prev_angle) > 180:\n",
    "        if this_angle < 0:\n",
    "            this_angle += 360\n",
    "        else:\n",
    "            prev_angle += 360\n",
    "    return this_angle - prev_angle"
   ]
  },
  {
   "cell_type": "code",
   "execution_count": 44,
   "metadata": {},
   "outputs": [
    {
     "name": "stdout",
     "output_type": "stream",
     "text": [
      "88 1074\n"
     ]
    },
    {
     "data": {
      "text/plain": [
       "array([[1.        , 0.25781703],\n",
       "       [0.25781703, 1.        ]])"
      ]
     },
     "execution_count": 44,
     "metadata": {},
     "output_type": "execute_result"
    }
   ],
   "source": [
    "kbs = []\n",
    "angles = []\n",
    "none_ctr = 0\n",
    "\n",
    "Img = namedtuple('Img', 'content time speed angle kb_input')\n",
    "\n",
    "TIME_OFFSET = 0.5\n",
    "TIME_LIMIT = 5\n",
    "queue =  []\n",
    "\n",
    "for track_id in TRACK_IDS:\n",
    "        # print(f'Starting {track_id}')\n",
    "        angle_prev = 0\n",
    "        for idx, img_name in enumerate(os.listdir(os.path.join(SRC_PATH, str(track_id)))):\n",
    "            img = cv2.imread(os.path.join(SRC_PATH, str(track_id), img_name), cv2.IMREAD_GRAYSCALE)\n",
    "            img = Img(  content=img, \n",
    "                        time=datetime.strptime(img_name[:-9], \"%Y-%m-%d-%H-%M-%S-%f\"),\n",
    "                        speed=read_speed(img),\n",
    "                        angle=read_angle(img),\n",
    "                        kb_input = [int(key_pressed) for key_pressed in img_name[-8:-4]]\n",
    "                        )\n",
    "\n",
    "            queue.append(img)\n",
    "            while img.time - queue[0].time > timedelta(seconds=TIME_LIMIT):\n",
    "                queue.pop(0)\n",
    "            if img.time - queue[0].time < timedelta(seconds=TIME_OFFSET):\n",
    "                continue\n",
    "            \n",
    "            img = queue.pop(0)\n",
    "            # DEBUG\n",
    "            if img.angle is None:\n",
    "                none_ctr += 1\n",
    "            # END DEBUG\n",
    "            future_angle = queue[-1].angle if queue[-1].angle is not None else future_angle\n",
    "            this_angle = img.angle if img.angle is not None else future_angle\n",
    "            angle_diff = diff_angle_norm(future_angle, this_angle)\n",
    "            # print(img_time, kb_input[2:], angle_diff)\n",
    "\n",
    "            kbs.append(CONVERT_INPUT.index(img.kb_input[2:])-1)\n",
    "            angles.append(angle_diff)\n",
    "            # plt.figure(figsize=(10, 10))\n",
    "            # plt.imshow(img, cmap='gray')\n",
    "            # plt.title(f'{kb_input}, {angle_diff}')\n",
    "            # plt.xticks([]), plt.yticks([])\n",
    "            # plt.show()\n",
    "print(none_ctr, len(os.listdir(os.path.join(SRC_PATH, str(track_id)))))\n",
    "np.corrcoef(kbs, angles)\n"
   ]
  },
  {
   "cell_type": "code",
   "execution_count": null,
   "metadata": {},
   "outputs": [
    {
     "data": {
      "image/png": "[encoded data removed]",
      "text/plain": [
       "<Figure size 432x288 with 1 Axes>"
      ]
     },
     "metadata": {
      "needs_background": "light"
     },
     "output_type": "display_data"
    }
   ],
   "source": [
    "y, x = np.histogram(angles)\n",
    "plt.bar(x[:-1], y)\n",
    "plt.show()"
   ]
  }
 ],
 "metadata": {
  "kernelspec": {
   "display_name": "Python 3.10.4 ('ml')",
   "language": "python",
   "name": "python3"
  },
  "language_info": {
   "codemirror_mode": {
    "name": "ipython",
    "version": 3
   },
   "file_extension": ".py",
   "mimetype": "text/x-python",
   "name": "python",
   "nbconvert_exporter": "python",
   "pygments_lexer": "ipython3",
   "version": "3.10.4"
  },
  "orig_nbformat": 4,
  "vscode": {
   "interpreter": {
    "hash": "575b27b03c8f4938561cc9027b66655be84e7082a51e87d8eb0fbf4ab5514768"
   }
  }
 },
 "nbformat": 4,
 "nbformat_minor": 2
}
